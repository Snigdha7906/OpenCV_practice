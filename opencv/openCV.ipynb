{
 "cells": [
  {
   "cell_type": "markdown",
   "metadata": {},
   "source": [
    "# OpenCV"
   ]
  },
  {
   "cell_type": "code",
   "execution_count": 1,
   "metadata": {},
   "outputs": [],
   "source": [
    "import cv2\n",
    "import numpy as np"
   ]
  },
  {
   "cell_type": "code",
   "execution_count": 2,
   "metadata": {
    "scrolled": true
   },
   "outputs": [],
   "source": [
    "img=cv2.imread(\"bts.jpg\")\n",
    "cv2.imshow(\"test\",img)\n",
    "cv2.waitKey(0)\n",
    "cv2.destroyAllWindows()"
   ]
  },
  {
   "cell_type": "code",
   "execution_count": 3,
   "metadata": {},
   "outputs": [],
   "source": [
    "vid=cv2.VideoCapture(\"bts.mp4\")\n",
    "while(1):\n",
    "    success,img=vid.read()\n",
    "    cv2.imshow(\"video\",img)\n",
    "    if cv2.waitKey(1) & 0xFF== ord('q'):\n",
    "        cv2.destroyAllWindows()\n",
    "        break"
   ]
  },
  {
   "cell_type": "code",
   "execution_count": 4,
   "metadata": {},
   "outputs": [],
   "source": [
    "cam=cv2.VideoCapture(0)\n",
    "cam.set(3,640)      #width 3\n",
    "cam.set(4,480)      #height 4\n",
    "cam.set(10,100)     #brightness \n",
    "while(1):\n",
    "    success,img=cam.read()\n",
    "    cv2.imshow(\"vid\",img)\n",
    "    if cv2.waitKey(1)& 0xFF==ord('q'):\n",
    "        cv2.destroyAllWindows()\n",
    "        break"
   ]
  },
  {
   "cell_type": "markdown",
   "metadata": {},
   "source": [
    "# BASIC FUNCTIONS\n",
    "Diff color scheme\n",
    "Blur\n",
    "Edge detection canny img \n",
    "Dilate edge (inc thickness) \n",
    "Erode edge (dec thickness)"
   ]
  },
  {
   "cell_type": "code",
   "execution_count": 5,
   "metadata": {
    "scrolled": true
   },
   "outputs": [],
   "source": [
    "img=cv2.imread(\"bts.jpg\")\n",
    "kernel=np.ones((5,5),np.uint8) #kernel a matrix, define its size,value\n",
    "img_grey= cv2.cvtColor(img,cv2.COLOR_BGR2GRAY)\n",
    "img_blur=cv2.GaussianBlur(img,(5,5),0) #add kernel size (it can only be odd)\n",
    "img_canny=cv2.Canny(img,50,200)#threshold val\n",
    "img_dilation=cv2.dilate(img_canny,kernel,iterations=2) \n",
    "img_eroded=cv2.erode(img_dilation,kernel,iterations=1)\n",
    "\n",
    "cv2.imshow(\"test1\",img_grey)\n",
    "cv2.imshow(\"test2\",img_blur)\n",
    "cv2.imshow(\"test3\",img_canny)\n",
    "cv2.imshow(\"test4\",img_dilation)\n",
    "cv2.imshow(\"test5\",img_eroded)\n",
    "\n",
    "cv2.waitKey(0)\n",
    "cv2.destroyAllWindows()"
   ]
  },
  {
   "cell_type": "markdown",
   "metadata": {},
   "source": [
    "## Resize Crop"
   ]
  },
  {
   "cell_type": "raw",
   "metadata": {},
   "source": [
    "O_______ +tv x\n",
    "|\n",
    "| \n",
    "|       .(Xm,Ym) ->size of img\n",
    "+tv y   "
   ]
  },
  {
   "cell_type": "code",
   "execution_count": 6,
   "metadata": {},
   "outputs": [
    {
     "name": "stdout",
     "output_type": "stream",
     "text": [
      "(900, 1200, 3)\n",
      "(600, 1500, 3)\n",
      "(500, 800, 3)\n"
     ]
    }
   ],
   "source": [
    "img_resize=cv2.resize(img,(1500,600))\n",
    "img_crop=img[200:700,200:1000]\n",
    "\n",
    "print(img.shape)\n",
    "print(img_resize.shape)\n",
    "print(img_crop.shape)\n",
    "\n",
    "cv2.imshow(\"og\",img)\n",
    "cv2.imshow(\"resized\",img_resize)\n",
    "cv2.imshow(\"cropped\",img_crop)\n",
    "\n",
    "cv2.waitKey(0)\n",
    "cv2.destroyAllWindows()"
   ]
  },
  {
   "cell_type": "markdown",
   "metadata": {},
   "source": [
    " ## Shapes Texts"
   ]
  },
  {
   "cell_type": "code",
   "execution_count": 7,
   "metadata": {},
   "outputs": [
    {
     "name": "stdout",
     "output_type": "stream",
     "text": [
      "(400, 800, 3)\n"
     ]
    }
   ],
   "source": [
    "img=np.zeros((400,800,3),np.uint8)\n",
    "print(img.shape)\n",
    "\n",
    "img[:]=255,0,0 #set whole bg blue\n",
    "cv2.line(img,(0,0),(400,200),(0,220,112),5) #cv2.line(img,(start pt),(end pt),(color),thickness)\n",
    "cv2.line(img,(img.shape[1],0),(0,img.shape[0]),(0,250,0),3)\n",
    "cv2.rectangle(img,(200,100),(600,300),(0,0,255),5) #same format\n",
    "cv2.rectangle(img,(300,133),(500,267),(0,0,255),cv2.FILLED) #to fill shape\n",
    "cv2.circle(img,(400,200),30,(255,255,10),5) #cv2.circle(img,(center),radius,(color),thickness)\n",
    "cv2.putText(img,\"RUN BTS\",(250,220),cv2.FONT_HERSHEY_COMPLEX,2,(0,0,0),5 ) #cv2.putText(img,\"text\",origin,font,scale,color,thickness)\n",
    "cv2.imshow(\"img\",img)\n",
    "\n",
    "cv2.waitKey(0)\n",
    "cv2.destroyAllWindows()"
   ]
  },
  {
   "cell_type": "markdown",
   "metadata": {},
   "source": [
    "## Warp perspective"
   ]
  },
  {
   "cell_type": "code",
   "execution_count": 8,
   "metadata": {},
   "outputs": [],
   "source": [
    "img=cv2.imread(\"btscards.jpeg\")\n",
    "\n",
    "width,height=250,350\n",
    "\n",
    "points1=np.float32([[602,422],[826,483],[749,788],[519,726]])\n",
    "points2=np.float32([[0,0],[width,0],[width,height],[0,height]])\n",
    "matrix=cv2.getPerspectiveTransform(points1,points2)\n",
    "\n",
    "img_out=cv2.warpPerspective(img,matrix,(width,height))\n",
    "\n",
    "cv2.imshow(\"img\",img)\n",
    "cv2.imshow(\"output\",img_out)\n",
    "\n",
    "cv2.waitKey(0)\n",
    "cv2.destroyAllWindows()"
   ]
  },
  {
   "cell_type": "markdown",
   "metadata": {},
   "source": [
    "## Joining images"
   ]
  },
  {
   "cell_type": "code",
   "execution_count": 9,
   "metadata": {},
   "outputs": [],
   "source": [
    "img_hor=np.hstack((img,img))\n",
    "img_ver=np.vstack((img,img))\n",
    "#img size cant be changed, same rgb req \n",
    "cv2.imshow(\"horizontal\",img_hor)\n",
    "cv2.imshow(\"vertical\",img_ver)\n",
    "\n",
    "cv2.waitKey(0)\n",
    "cv2.destroyAllWindows()"
   ]
  },
  {
   "cell_type": "markdown",
   "metadata": {},
   "source": [
    "## Color detection\n",
    "Change values of hue sat val. find the new values and put them in createTrackbar"
   ]
  },
  {
   "cell_type": "code",
   "execution_count": 10,
   "metadata": {},
   "outputs": [],
   "source": [
    "def empty(a):\n",
    "    pass\n",
    "\n",
    "def stackImages(scale,imgArray):\n",
    "    rows = len(imgArray)\n",
    "    cols = len(imgArray[0])\n",
    "    rowsAvailable = isinstance(imgArray[0], list)\n",
    "    width = imgArray[0][0].shape[1]\n",
    "    height = imgArray[0][0].shape[0]\n",
    "    if rowsAvailable:\n",
    "        for x in range ( 0, rows):\n",
    "            for y in range(0, cols):\n",
    "                if imgArray[x][y].shape[:2] == imgArray[0][0].shape [:2]:\n",
    "                    imgArray[x][y] = cv2.resize(imgArray[x][y], (0, 0), None, scale, scale)\n",
    "                else:\n",
    "                    imgArray[x][y] = cv2.resize(imgArray[x][y], (imgArray[0][0].shape[1], imgArray[0][0].shape[0]), None, scale, scale)\n",
    "                if len(imgArray[x][y].shape) == 2: imgArray[x][y]= cv2.cvtColor( imgArray[x][y], cv2.COLOR_GRAY2BGR)\n",
    "        imageBlank = np.zeros((height, width, 3), np.uint8)\n",
    "        hor = [imageBlank]*rows\n",
    "        hor_con = [imageBlank]*rows\n",
    "        for x in range(0, rows):\n",
    "            hor[x] = np.hstack(imgArray[x])\n",
    "        ver = np.vstack(hor)\n",
    "    else:\n",
    "        for x in range(0, rows):\n",
    "            if imgArray[x].shape[:2] == imgArray[0].shape[:2]:\n",
    "                imgArray[x] = cv2.resize(imgArray[x], (0, 0), None, scale, scale)\n",
    "            else:\n",
    "                imgArray[x] = cv2.resize(imgArray[x], (imgArray[0].shape[1], imgArray[0].shape[0]), None,scale, scale)\n",
    "            if len(imgArray[x].shape) == 2: imgArray[x] = cv2.cvtColor(imgArray[x], cv2.COLOR_GRAY2BGR)\n",
    "        hor= np.hstack(imgArray)\n",
    "        ver = hor\n",
    "    return ver"
   ]
  },
  {
   "cell_type": "code",
   "execution_count": 11,
   "metadata": {},
   "outputs": [
    {
     "name": "stdout",
     "output_type": "stream",
     "text": [
      "50 131 0 65 228 255\n",
      "50 131 0 65 228 255\n",
      "50 131 0 65 228 255\n",
      "50 131 0 65 228 255\n",
      "50 131 0 65 228 255\n",
      "50 131 0 65 228 255\n",
      "50 131 0 65 228 255\n",
      "50 131 0 65 228 255\n",
      "50 131 0 65 228 255\n",
      "50 131 0 65 228 255\n",
      "50 131 0 65 228 255\n",
      "50 131 0 65 228 255\n",
      "50 131 0 65 228 255\n",
      "50 131 0 65 228 255\n",
      "50 131 0 65 228 255\n",
      "50 131 0 65 228 255\n",
      "50 131 0 65 228 255\n",
      "50 131 0 65 228 255\n",
      "50 131 0 65 228 255\n",
      "50 131 0 65 228 255\n",
      "50 131 0 65 228 255\n",
      "50 131 0 65 228 255\n",
      "50 131 0 65 228 255\n",
      "50 131 0 65 228 255\n",
      "50 131 0 65 228 255\n",
      "50 131 0 65 228 255\n",
      "50 131 0 65 228 255\n",
      "50 131 0 65 228 255\n",
      "50 131 0 65 228 255\n",
      "50 131 0 65 228 255\n",
      "50 131 0 65 228 255\n",
      "50 131 0 65 228 255\n",
      "50 131 0 65 228 255\n",
      "50 131 0 65 228 255\n",
      "50 131 0 65 228 255\n",
      "50 131 0 65 228 255\n",
      "50 131 0 65 228 255\n",
      "50 131 0 65 228 255\n",
      "50 131 0 65 228 255\n",
      "50 131 0 65 228 255\n",
      "50 131 0 65 228 255\n",
      "50 131 0 65 228 255\n",
      "50 131 0 65 228 255\n",
      "50 131 0 65 228 255\n",
      "50 131 0 65 228 255\n",
      "50 131 0 65 228 255\n",
      "50 131 0 65 228 255\n",
      "50 131 0 65 228 255\n",
      "50 131 0 65 228 255\n",
      "50 131 0 65 228 255\n",
      "50 131 0 65 228 255\n",
      "50 131 0 65 228 255\n",
      "50 131 0 65 228 255\n",
      "50 131 0 65 228 255\n",
      "50 131 0 65 228 255\n",
      "50 131 0 65 228 255\n",
      "50 131 0 65 228 255\n",
      "50 131 0 65 228 255\n",
      "50 131 0 65 228 255\n",
      "50 131 0 65 228 255\n",
      "50 131 0 65 228 255\n",
      "50 131 0 65 228 255\n",
      "50 131 0 65 228 255\n",
      "50 131 0 65 228 255\n",
      "50 131 0 65 228 255\n",
      "50 131 0 65 228 255\n",
      "50 131 0 65 228 255\n",
      "50 131 0 65 228 255\n",
      "50 131 0 65 228 255\n",
      "50 131 0 65 228 255\n",
      "50 131 0 65 228 255\n",
      "50 131 0 65 228 255\n",
      "50 131 0 65 228 255\n",
      "50 131 0 65 228 255\n",
      "50 131 0 65 228 255\n",
      "50 131 0 65 228 255\n",
      "50 131 0 65 228 255\n",
      "50 131 0 65 228 255\n",
      "50 131 0 65 228 255\n",
      "50 131 0 65 228 255\n",
      "50 131 0 65 228 255\n",
      "50 131 0 65 228 255\n",
      "50 131 0 65 228 255\n",
      "50 131 0 65 228 255\n",
      "50 131 0 65 228 255\n",
      "50 131 0 65 228 255\n",
      "50 131 0 65 228 255\n",
      "50 131 0 65 228 255\n",
      "50 131 0 65 228 255\n",
      "50 131 0 65 228 255\n",
      "50 131 0 65 228 255\n",
      "50 131 0 65 228 255\n",
      "50 131 0 65 228 255\n",
      "50 131 0 65 228 255\n",
      "50 131 0 65 228 255\n",
      "50 131 0 65 228 255\n",
      "50 131 0 65 228 255\n",
      "50 131 0 65 228 255\n",
      "50 131 0 65 228 255\n",
      "50 131 0 65 228 255\n",
      "50 131 0 65 228 255\n",
      "50 131 0 65 228 255\n",
      "50 131 0 65 228 255\n",
      "50 131 0 65 228 255\n",
      "50 131 0 65 228 255\n",
      "50 131 0 65 228 255\n",
      "50 131 0 65 228 255\n",
      "50 131 0 65 228 255\n",
      "50 131 0 65 228 255\n",
      "50 131 0 65 228 255\n",
      "50 131 0 65 228 255\n",
      "50 131 0 65 228 255\n",
      "50 131 0 65 228 255\n",
      "50 131 0 65 228 255\n",
      "50 131 0 65 228 255\n"
     ]
    }
   ],
   "source": [
    "cv2.namedWindow(\"trackbars\")\n",
    "cv2.resizeWindow(\"trackbars\",640,240)\n",
    "\n",
    "# cv2.createTrackbar(\"hue min\",\"trackbars\",0,179,empty) #cv2.createTrackbar(\"anyname\",\"window name\",initialval,maxval,func) \n",
    "# cv2.createTrackbar(\"hue max\",\"trackbars\",179,179,empty) #max hue val is 360 but opencv has 179 maxval\n",
    "# cv2.createTrackbar(\"sat min\",\"trackbars\",0,255,empty)\n",
    "# cv2.createTrackbar(\"sat max\",\"trackbars\",255,255,empty)\n",
    "# cv2.createTrackbar(\"val min\",\"trackbars\",0,255,empty)\n",
    "# cv2.createTrackbar(\"val max\",\"trackbars\",255,255,empty)\n",
    "\n",
    "#trackbar using values 50 131 0 65 228 255 obtained to get white\n",
    "cv2.createTrackbar(\"hue min\",\"trackbars\",50,179,empty) #cv2.createTrackbar(\"anyname\",\"window name\",initialval,maxval,func) \n",
    "cv2.createTrackbar(\"hue max\",\"trackbars\",131,179,empty) #max hue val is 360 but opencv has 179 maxval\n",
    "cv2.createTrackbar(\"sat min\",\"trackbars\",0,255,empty)\n",
    "cv2.createTrackbar(\"sat max\",\"trackbars\",65,255,empty)\n",
    "cv2.createTrackbar(\"val min\",\"trackbars\",228,255,empty)\n",
    "cv2.createTrackbar(\"val max\",\"trackbars\",255,255,empty)\n",
    "\n",
    "while True:\n",
    "    img=cv2.imread(\"bts.jpg\")\n",
    "    img_hsv=cv2.cvtColor(img,cv2.COLOR_BGR2HSV)\n",
    "    \n",
    "    h_min=cv2.getTrackbarPos(\"hue min\",\"trackbars\")\n",
    "    h_max=cv2.getTrackbarPos(\"hue max\",\"trackbars\")\n",
    "    s_min=cv2.getTrackbarPos(\"sat min\",\"trackbars\")\n",
    "    s_max=cv2.getTrackbarPos(\"sat max\",\"trackbars\")\n",
    "    v_min=cv2.getTrackbarPos(\"val min\",\"trackbars\")\n",
    "    v_max=cv2.getTrackbarPos(\"val max\",\"trackbars\")\n",
    "    print(h_min,h_max,s_min,s_max,v_min,v_max)\n",
    "    \n",
    "    lower,upper=np.array([h_min,s_min,v_min]), np.array([h_max,s_max,v_max])\n",
    "    mask=cv2.inRange(img_hsv,lower,upper)\n",
    "    imgnew=cv2.bitwise_and(img,img,mask=mask)\n",
    "    \n",
    "#     cv2.imshow(\"img\",img)\n",
    "#     cv2.imshow(\"hsv\",img_hsv)\n",
    "#     cv2.imshow(\"masked img\",mask)\n",
    "#     cv2.imshow(\"img new\",imgnew)\n",
    "    img_stack= stackImages(0.6,([img,img_hsv],[mask,imgnew]))\n",
    "    cv2.imshow(\"stack images\",img_stack)\n",
    "\n",
    "    if cv2.waitKey(1) & 0xFF== ord('q'):\n",
    "        cv2.destroyAllWindows()\n",
    "        break"
   ]
  },
  {
   "cell_type": "markdown",
   "metadata": {},
   "source": [
    "## Shape detection"
   ]
  },
  {
   "cell_type": "code",
   "execution_count": 69,
   "metadata": {},
   "outputs": [],
   "source": [
    "def getContours(img):\n",
    "    contours,heirarchy=cv2.findContours(img,cv2.RETR_EXTERNAL,cv2.CHAIN_APPROX_NONE)\n",
    "    for i in contours:\n",
    "        area=cv2.contourArea(i)\n",
    "        if area>500:\n",
    "            cv2.drawContours(img_contour,i,-1,(255,0,0),3)\n",
    "            perimeter=cv2.arcLength(i,True)\n",
    "            approx=cv2.approxPolyDP(i,0.02*perimeter,True)\n",
    "            corners=len(approx)\n",
    "            print(area,perimeter,corners)\n",
    "            \n",
    "            x,y,w,h=cv2.boundingRect(approx)\n",
    "            \n",
    "            cv2.rectangle(img_contour,(x,y),(x+w,y+h),(0,255,0),2)\n",
    "            \n",
    "            if corners==3: obj_type=\"triangle\"\n",
    "            elif corners==4:\n",
    "                aspectratio=w/h;\n",
    "                if aspectratio>0.95 and aspectratio<1.05: obj_type=\"square\"\n",
    "                else: obj_type=\"rectangle\"\n",
    "            elif corners>4: obj_type=\"circle\"\n",
    "            else:\n",
    "                obj_type=\"none\"\n",
    "                \n",
    "            cv2.putText(img_contour,obj_type,((x+w//2)-10,(y+h//2)-10),cv2.FONT_HERSHEY_COMPLEX,0.5,(0,0,0),2)"
   ]
  },
  {
   "cell_type": "code",
   "execution_count": 74,
   "metadata": {},
   "outputs": [
    {
     "name": "stdout",
     "output_type": "stream",
     "text": [
      "7826.0 367.65685415267944 4\n",
      "8141.5 359.546244263649 9\n",
      "6719.0 381.36247873306274 3\n",
      "4294.0 349.7056245803833 10\n",
      "9439.0 354.534051656723 8\n",
      "9558.0 365.36247873306274 8\n",
      "7870.0 382.01428055763245 4\n",
      "5074.5 462.8599525690079 10\n",
      "7990.5 367.0710676908493 4\n",
      "10193.5 401.0710676908493 4\n",
      "8145.5 360.71781718730927 9\n",
      "6747.0 381.36247873306274 3\n",
      "7879.5 380.6000670194626 4\n",
      "4292.5 350.29141104221344 8\n",
      "9473.0 354.534051656723 8\n",
      "6838.0 317.4213538169861 8\n",
      "10192.5 401.0710676908493 4\n",
      "6690.0 380.534051656723 3\n",
      "8160.5 359.546244263649 8\n",
      "9562.0 365.36247873306274 8\n",
      "7868.0 382.84270763397217 4\n",
      "6839.0 318.2497808933258 8\n",
      "5080.0 463.445739030838 10\n",
      "7931.5 366.2426406145096 4\n",
      "10192.5 401.0710676908493 4\n",
      "9433.5 354.29141104221344 8\n",
      "7894.0 381.1858534812927 4\n",
      "4306.5 351.9482651948929 8\n",
      "9559.5 365.6051193475723 8\n",
      "6837.0 317.4213538169861 8\n",
      "7820.0 366.0 4\n",
      "6713.0 381.36247873306274 3\n",
      "8148.5 360.3746713399887 9\n",
      "10095.0 400.8284270763397 4\n",
      "9434.0 353.7056245803833 8\n",
      "9544.5 363.9482651948929 8\n",
      "6847.0 317.4213538169861 8\n",
      "5110.0 461.78888487815857 10\n",
      "7929.0 365.65685415267944 4\n",
      "8151.5 359.546244263649 9\n",
      "6754.5 380.7766922712326 3\n",
      "4315.5 351.11983811855316 10\n",
      "9431.0 353.7056245803833 8\n",
      "9564.0 366.19090580940247 8\n",
      "7900.0 383.6711347103119 4\n",
      "5098.5 466.5168067216873 10\n",
      "7996.0 367.65685415267944 4\n",
      "10199.0 401.65685415267944 4\n",
      "8144.0 359.3036036491394 9\n",
      "6695.5 381.9482651948929 3\n",
      "7878.0 382.01428055763245 4\n",
      "4288.5 350.29141104221344 10\n",
      "9490.0 355.7056245803833 8\n",
      "6857.0 319.0782079696655 8\n",
      "10192.5 401.0710676908493 4\n",
      "8152.5 360.71781718730927 9\n",
      "6740.5 381.9482651948929 3\n",
      "7883.0 382.01428055763245 4\n",
      "4307.5 350.29141104221344 8\n",
      "6839.0 317.4213538169861 8\n",
      "9561.0 366.19090580940247 8\n",
      "5089.0 462.6173119544983 10\n",
      "8001.0 367.65685415267944 4\n",
      "10195.0 402.48528122901917 4\n",
      "7879.5 382.6000670194626 4\n",
      "6849.0 318.2497808933258 8\n",
      "9492.5 355.11983811855316 8\n",
      "9565.0 366.19090580940247 8\n",
      "5114.0 463.445739030838 10\n",
      "7932.0 366.8284270763397 4\n",
      "8148.5 358.71781718730927 9\n",
      "6747.0 382.19090580940247 3\n",
      "4300.5 351.9482651948929 8\n",
      "9433.0 353.7056245803833 8\n",
      "9549.5 365.6051193475723 8\n",
      "6838.0 317.4213538169861 8\n",
      "5083.5 462.8599525690079 10\n",
      "7931.0 365.65685415267944 4\n",
      "10062.0 404.97056245803833 4\n",
      "8142.0 359.3036036491394 8\n",
      "6778.5 382.7766922712326 3\n",
      "7882.5 382.6000670194626 4\n",
      "4323.5 351.9482651948929 8\n",
      "9489.0 356.8771975040436 8\n",
      "9551.0 365.36247873306274 8\n"
     ]
    }
   ],
   "source": [
    "img=cv2.imread(\"shp.jpg\")\n",
    "img_grey= cv2.cvtColor(img,cv2.COLOR_BGR2GRAY)\n",
    "img_blur=cv2.GaussianBlur(img_grey,(7,7),1)\n",
    "img_canny=cv2.Canny(img_blur,50,50)\n",
    "img_contour=img.copy()\n",
    "getContours(img_canny)\n",
    "\n",
    "img_stack1= stackImages(0.5,([img,img_grey,img_blur],[img,img_contour,img_canny]))\n",
    "img_stack2=stackImages(1,([img_contour]))\n",
    "cv2.imshow(\"img\",img_stack)\n",
    "cv2.imshow(\"img2\",img_stack2)\n",
    "cv2.waitKey(0)\n",
    "cv2.destroyAllWindows()"
   ]
  },
  {
   "cell_type": "markdown",
   "metadata": {},
   "source": [
    "## Face detection"
   ]
  },
  {
   "cell_type": "code",
   "execution_count": 92,
   "metadata": {},
   "outputs": [],
   "source": [
    "img=cv2.imread(\"bts.jpg\")\n",
    "img_grey=cv2.cvtColor(img,cv2.COLOR_BGR2GRAY)\n",
    "\n",
    "# faceCascade=cv2.CascadeClassifier('/home/inno/anaconda3/lib/python3.8/site-packages/cv2/data/haarcascade_frontalface_default.xml')\n",
    "faceCascade=cv2.CascadeClassifier(cv2.data.haarcascades + 'haarcascade_frontalface_default.xml')\n",
    "faces=faceCascade.detectMultiScale(img_grey,1.1,4)\n",
    "\n",
    "for (x,y,w,h) in faces:\n",
    "    cv2.rectangle(img,(x,y),(x+w,y+h),(0,255,255),2)\n",
    "\n",
    "img_stack=stackImages(1,([img,img_grey]))\n",
    "cv2.imshow(\"img\",img_stack)\n",
    "\n",
    "cv2.waitKey(0)\n",
    "cv2.destroyAllWindows()"
   ]
  },
  {
   "cell_type": "code",
   "execution_count": null,
   "metadata": {},
   "outputs": [],
   "source": []
  }
 ],
 "metadata": {
  "kernelspec": {
   "display_name": "Python 3",
   "language": "python",
   "name": "python3"
  },
  "language_info": {
   "codemirror_mode": {
    "name": "ipython",
    "version": 3
   },
   "file_extension": ".py",
   "mimetype": "text/x-python",
   "name": "python",
   "nbconvert_exporter": "python",
   "pygments_lexer": "ipython3",
   "version": "3.8.3"
  }
 },
 "nbformat": 4,
 "nbformat_minor": 4
}
